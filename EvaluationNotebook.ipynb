{
  "nbformat": 4,
  "nbformat_minor": 0,
  "metadata": {
    "colab": {
      "provenance": []
    },
    "kernelspec": {
      "name": "python3",
      "display_name": "Python 3"
    },
    "language_info": {
      "name": "python"
    }
  },
  "cells": [
    {
      "cell_type": "code",
      "execution_count": null,
      "metadata": {
        "id": "wjnjDTIOwNNT",
        "colab": {
          "base_uri": "https://localhost:8080/"
        },
        "outputId": "8a235c41-b239-49b7-df5a-a6396bfd791a"
      },
      "outputs": [
        {
          "output_type": "stream",
          "name": "stdout",
          "text": [
            "Drive already mounted at /content/drive; to attempt to forcibly remount, call drive.mount(\"/content/drive\", force_remount=True).\n"
          ]
        }
      ],
      "source": [
        "from google.colab import drive\n",
        "drive.mount('/content/drive')"
      ]
    },
    {
      "cell_type": "code",
      "source": [
        "import pandas as pd\n",
        "import numpy as np\n",
        "from sklearn.metrics import roc_curve\n",
        "from matplotlib import pyplot as plt"
      ],
      "metadata": {
        "id": "nar64cYny6cl"
      },
      "execution_count": null,
      "outputs": []
    },
    {
      "cell_type": "code",
      "source": [
        "bio_dir = '/content/drive/My Drive/Biometric Systems/Data/'"
      ],
      "metadata": {
        "id": "DCOroRd3w28O"
      },
      "execution_count": null,
      "outputs": []
    },
    {
      "cell_type": "code",
      "source": [
        "bayes_id_dir = '/content/drive/My Drive/Biometric Systems/Data/identification_bayes.csv'\n",
        "norm_id_dir = '/content/drive/My Drive/Biometric Systems/Data/identification_norm.csv'\n",
        "bayes_vr_dir = '/content/drive/My Drive/Biometric Systems/Data/verification_bayes.csv'\n",
        "norm_vr_dir = '/content/drive/My Drive/Biometric Systems/Data/verification_norm.csv'\n",
        "bayes_all_vs_all = '/content/drive/My Drive/Biometric Systems/Data/identification_bayes_all_vs_all.csv'\n",
        "norm_all_vs_all = '/content/drive/My Drive/Biometric Systems/Data/identification_norm_all_vs_all.csv'"
      ],
      "metadata": {
        "id": "SbY4BTwNyj4Z"
      },
      "execution_count": null,
      "outputs": []
    },
    {
      "cell_type": "code",
      "source": [
        "bayes_id = pd.read_csv(bayes_id_dir)\n",
        "norm_id = pd.read_csv(norm_id_dir)\n",
        "bayes_vr = pd.read_csv(bayes_vr_dir)\n",
        "norm_vr = pd.read_csv(norm_vr_dir)\n",
        "bayes_all = pd.read_csv(bayes_all_vs_all)\n",
        "norm_all = pd.read_csv(norm_all_vs_all)"
      ],
      "metadata": {
        "id": "U910Dku8ykC4"
      },
      "execution_count": null,
      "outputs": []
    },
    {
      "cell_type": "code",
      "source": [
        "rank_num = len(bayes_all.columns) - 1\n",
        "rank_list = [x + 1 for x in range(rank_num)]"
      ],
      "metadata": {
        "id": "yTq3_A7er3E0"
      },
      "execution_count": null,
      "outputs": []
    },
    {
      "cell_type": "code",
      "source": [
        "def compute_indexes(values, flag):\n",
        "  prediction_index_list = []\n",
        "  for row in values.iterrows():\n",
        "    user = row[1]['username']\n",
        "    user_score = row[1][user]\n",
        "    if flag == \"b\":\n",
        "      ordered_values = sorted(row[1][1:].tolist(), reverse = True)\n",
        "    else:\n",
        "      ordered_values = sorted(row[1][1:].tolist(), reverse = False)\n",
        "    prediction_index_list.append(ordered_values.index(user_score) + 1)\n",
        "  return prediction_index_list"
      ],
      "metadata": {
        "id": "b9nIZFy2r-zQ"
      },
      "execution_count": null,
      "outputs": []
    },
    {
      "cell_type": "code",
      "source": [
        "def compute_cmc(indexes, rank_list):\n",
        "  cmc_list = []\n",
        "  for k in rank_list:\n",
        "    cmc_list.append(sum(1 for i in indexes if i <= k) / len(indexes))\n",
        "  return cmc_list"
      ],
      "metadata": {
        "id": "h6T4pSa-sL0p"
      },
      "execution_count": null,
      "outputs": []
    },
    {
      "cell_type": "code",
      "source": [
        "bayes_indexes = compute_indexes(bayes_all, \"b\")\n",
        "norm_indexes = compute_indexes(norm_all, \"n\")\n",
        "\n",
        "bayes_cmc_list = compute_cmc(bayes_indexes, rank_list)\n",
        "norm_cmc_list = compute_cmc(norm_indexes, rank_list)\n",
        "\n",
        "print(bayes_cmc_list)\n",
        "print(norm_cmc_list)"
      ],
      "metadata": {
        "colab": {
          "base_uri": "https://localhost:8080/"
        },
        "id": "18MvTBjCsB-M",
        "outputId": "e055f5f2-9e3b-40b7-e9b7-965d428df914"
      },
      "execution_count": null,
      "outputs": [
        {
          "output_type": "stream",
          "name": "stdout",
          "text": [
            "[0.8604651162790697, 0.8837209302325582, 0.9069767441860465, 1.0, 1.0, 1.0, 1.0, 1.0, 1.0, 1.0, 1.0, 1.0, 1.0, 1.0]\n",
            "[0.8604651162790697, 0.8837209302325582, 0.9534883720930233, 0.9767441860465116, 1.0, 1.0, 1.0, 1.0, 1.0, 1.0, 1.0, 1.0, 1.0, 1.0]\n"
          ]
        }
      ]
    },
    {
      "cell_type": "code",
      "source": [
        "plt.title(\"BAYES\")\n",
        "plt.plot(rank_list, bayes_cmc_list, label=\"cmc\")\n",
        "plt.legend()\n",
        "plt.ylabel(\"Prob. of identification\")\n",
        "plt.xlabel(\"Rank\")\n",
        "plt.show()"
      ],
      "metadata": {
        "colab": {
          "base_uri": "https://localhost:8080/",
          "height": 295
        },
        "id": "d8XivJaOkqz7",
        "outputId": "9c1b8c85-46e9-4ccf-8f56-d51e4612b2b4"
      },
      "execution_count": null,
      "outputs": [
        {
          "output_type": "display_data",
          "data": {
            "text/plain": [
              "<Figure size 432x288 with 1 Axes>"
            ],
            "image/png": "[encoded data removed]"
          },
          "metadata": {
            "needs_background": "light"
          }
        }
      ]
    },
    {
      "cell_type": "code",
      "source": [
        "plt.title(\"L2 NORM\")\n",
        "plt.plot(rank_list, norm_cmc_list, label=\"cmc\")\n",
        "plt.legend()\n",
        "plt.ylabel(\"Prob. of identification\")\n",
        "plt.xlabel(\"Rank\")\n",
        "plt.show()"
      ],
      "metadata": {
        "colab": {
          "base_uri": "https://localhost:8080/",
          "height": 295
        },
        "id": "Rn6N1izrsdBb",
        "outputId": "f185e63b-584e-4d75-ccdb-1f0c90b64088"
      },
      "execution_count": null,
      "outputs": [
        {
          "output_type": "display_data",
          "data": {
            "text/plain": [
              "<Figure size 432x288 with 1 Axes>"
            ],
            "image/png": "[encoded data removed]"
          },
          "metadata": {
            "needs_background": "light"
          }
        }
      ]
    },
    {
      "cell_type": "code",
      "source": [
        "y_1 = bayes_id['username'].tolist()\n",
        "y_2 = bayes_id['predicted_user'].tolist()\n",
        "y_3 = norm_id['username'].tolist()\n",
        "y_4 = norm_id['predicted_user'].tolist()\n",
        "y_5 = norm_vr['username'].tolist()\n",
        "y_6 = norm_vr['typer_user'].tolist()\n",
        "y_7 = bayes_vr['typer_user'].tolist()\n",
        "y_8 = bayes_vr['username'].tolist()\n",
        "\n",
        "users = set(y_1)\n",
        "users.update(y_2)\n",
        "users.update(y_3)\n",
        "users.update(y_4)\n",
        "users.update(y_5)\n",
        "users.update(y_6)\n",
        "users.update(y_7)\n",
        "users.update(y_8)\n",
        "\n",
        "user_to_num = {}\n",
        "num_to_user = {}\n"
      ],
      "metadata": {
        "id": "GYDJlXBPykHu"
      },
      "execution_count": null,
      "outputs": []
    },
    {
      "cell_type": "code",
      "source": [
        "for i in enumerate(users):\n",
        "  user_to_num[i[1]] = i[0]\n",
        "  num_to_user[i[0]] = i[1]"
      ],
      "metadata": {
        "id": "m1qwFdQ6hgQG"
      },
      "execution_count": null,
      "outputs": []
    },
    {
      "cell_type": "code",
      "source": [
        "def convert_to_np(lista, user_to_num):\n",
        "  vettore = [user_to_num[i] for i in lista]\n",
        "  return np.array(vettore)"
      ],
      "metadata": {
        "id": "m0EN4jqqxwpI"
      },
      "execution_count": null,
      "outputs": []
    },
    {
      "cell_type": "code",
      "source": [
        "bayes_id_y = convert_to_np(y_1, user_to_num)\n",
        "bayes_id_y_pred = convert_to_np(y_2, user_to_num)\n",
        "bayes_vr_y = convert_to_np(y_8, user_to_num)\n",
        "bayes_vr_y_pred = convert_to_np(y_7, user_to_num)\n",
        "norm_id_y = convert_to_np(y_3, user_to_num)\n",
        "norm_id_y_pred = convert_to_np(y_4, user_to_num)\n",
        "norm_vr_y = convert_to_np(y_5, user_to_num)\n",
        "norm_vr_y_pred = convert_to_np(y_6, user_to_num)"
      ],
      "metadata": {
        "id": "xd_Fd2KJhgWF"
      },
      "execution_count": null,
      "outputs": []
    },
    {
      "cell_type": "code",
      "source": [
        "def compute_accuracy(y, y_pred):\n",
        "  tot = 0\n",
        "  right = 0\n",
        "  for i in range(0, len(y)):\n",
        "    if y[i] == y_pred[i]:\n",
        "      right += 1\n",
        "    tot += 1\n",
        "  return right/tot"
      ],
      "metadata": {
        "id": "JViyvGKWhgcE"
      },
      "execution_count": null,
      "outputs": []
    },
    {
      "cell_type": "code",
      "source": [
        "compute_accuracy(bayes_id_y, bayes_id_y_pred)"
      ],
      "metadata": {
        "id": "Cx9fUnCuhgfF",
        "colab": {
          "base_uri": "https://localhost:8080/"
        },
        "outputId": "41755326-a8a8-4981-91d4-5fc0a14780da"
      },
      "execution_count": null,
      "outputs": [
        {
          "output_type": "execute_result",
          "data": {
            "text/plain": [
              "0.8352941176470589"
            ]
          },
          "metadata": {},
          "execution_count": 48
        }
      ]
    },
    {
      "cell_type": "code",
      "source": [
        "compute_accuracy(norm_id_y, norm_id_y_pred)"
      ],
      "metadata": {
        "id": "EHQZa_LeykRu",
        "colab": {
          "base_uri": "https://localhost:8080/"
        },
        "outputId": "68f0e295-4dd1-4e8d-cfe9-a684fee89e76"
      },
      "execution_count": null,
      "outputs": [
        {
          "output_type": "execute_result",
          "data": {
            "text/plain": [
              "0.8433734939759037"
            ]
          },
          "metadata": {},
          "execution_count": 49
        }
      ]
    },
    {
      "cell_type": "code",
      "source": [
        "bayes_values = bayes_vr[\"score\"].tolist()\n",
        "norm_values = norm_vr[\"score\"].tolist()\n",
        "print(bayes_values)\n",
        "print(norm_values)"
      ],
      "metadata": {
        "id": "FnA70_C57X_e",
        "colab": {
          "base_uri": "https://localhost:8080/"
        },
        "outputId": "2dbffb49-6820-4dd4-81a6-4224569f7bc1"
      },
      "execution_count": null,
      "outputs": [
        {
          "output_type": "stream",
          "name": "stdout",
          "text": [
            "[7.617208753313337, 7.515210832868305, 7.644283839634487, 7.498672485351562, 7.657768794468471, 7.235296521868024, 7.512932368687221, 7.668695722307477, 7.536210196358817, -0.3415626798357282, -0.4438263348170689, -0.6159859384809222, -0.2420503752572195, 6.731988089425223, 6.771512712751116, 4.898677280970982, 7.621406010219029, 9.28665052141462, 0.6900373186383929, 4.947157723563059, 3.99606078011649, -0.5283829144069127, 0.6788805552891323, 2.6951070513044084, 4.281032289777484, 0.7435568400791713, 9.168890816824776, 9.9389157976423, 9.944129943847658, 8.181712559291295, 9.727180480957031, 10.061673845563616, 5.959642682756697, -0.4669204098837716, 2.898603711809431, 0.2351019723074776, -6.976276942661831, 0.487830707005092, 0.2217435155596052, 0.4627187592642647, 1.861746106828962, 1.874636513846261, -1.957049233572824, -0.1840590749468122, 1.8332129887172155, 6.605536324637277, 5.638493129185269, 6.350955963134766, 6.631105150495257, 6.580624171665737, 4.676131112234933, 7.516663687569754, -0.9177820682525636, -1.1474077701568604, 5.3494704110281805, -1.143424431482951, 4.840302058628628, 5.618862915039062, 4.412764140537807, -0.9580716490745544, 7.290031433105469, 5.005673217773437, 7.488839830671038, -0.5728180408477783, 4.412782396589007, 4.879724230085101, -0.64639679590861, 5.9680427551269535, 7.463297162737165, -0.6072528759638468, 3.6729583740234375, 4.406475067138672, 4.017203903198242, 7.123382568359375, 4.841870444161551, 5.764981460571289, -1.178798755009969, 5.42791257585798, -0.3611266613006592, 7.6939817156110495, 7.360824040004185, 5.226834106445312, 7.683688027518136, 5.096827370779855, 1.021694898605347, -0.2184295952320099, -0.8644319176673889, 5.391771589006696, 5.03606071472168, -0.7440620263417562, 3.3499584197998047, 5.170622144426618, -2.0411808490753174, 3.797882556915283, 4.447046824863979, 5.919976806640625, -1.119828224182129, 0.9186808268229166, 2.3380855560302733, 1.2671287536621094, 5.257179260253906, -3.903750419616699, -2.6818957328796387, 0.4398273229598999, -18.502818298339843, 0.3666625022888183, 5.302327837262835, 2.4433393478393555, 9.0, -0.5250929355621338, -0.0921645641326904, 6.130267551967076, 4.1661480494907925, 7.86340822492327, 5.589762496948242, 2.1252389635358537, 3.056473868233817, 6.645598820277622, 7.8823089599609375, 5.424666976928711, 8.097933088030134, 5.111854008265904, 7.342649187360491, 5.1573528289794925, -2.8919098377227783, 4.247984749930246, 6.023022121853298, 2.461860111781529, 6.382269541422526, 6.203287336561415, 5.56237072414822, 6.035658942328559, 2.3032922744750977, 7.812501634870257, 8.212706974574498, 7.695134844098773, 5.349952152797154, 9.933978489467076, 9.55546133858817]\n",
            "[0.0156187883445194, 0.0174369684287479, 0.0169762319752148, 0.0152784490159579, 0.0141258644206183, 0.0383684677737099, 0.0155880876949855, 0.0114930346608161, 0.017024176461356, 0.2422594428062439, 0.248094156384468, 0.2541676759719848, 0.2324678748846054, 0.0143270428691591, 0.0108940090451921, 0.0895044888768877, 0.0384608847754342, 0.1726075857877731, 0.0952417765344892, 0.1029682040214538, 0.0988802015781402, 0.042339026927948, 0.1037317752838134, 0.113597001348223, 0.0399497548739115, 0.0788666754961013, 0.4296523729960124, 0.0276059582829475, 0.0617588659127553, 0.0242294743657112, 0.0344826221466064, 0.0143088683485984, 0.0116056457161903, 0.0593947768211364, 0.0191317304968833, 0.0057430993765592, 0.0864035827772957, 0.1066078543663024, 0.1158588051795959, 0.0368226766586303, 0.024240368977189, 0.2720367014408111, 0.167947381734848, 0.031860563904047, 0.0220872312784194, 0.0865849256515502, 0.0357461401394435, 0.016547041279929, 0.0191273689270019, 0.1008255141122, 0.0766514539718627, 0.1286876102288564, 0.2661751806735992, 0.0867065872464861, 0.1263189911842346, 0.0950217161859784, 0.1022605776786804, 0.1195281488554818, 0.2575149834156036, 0.0342792975051062, 0.0724029958248138, 0.0772978918892996, 0.1175173024336497, 0.1117369788033621, 0.092074019568307, 0.1263591249783834, 0.0910124003887176, 0.0110792922122137, 0.1231891612211863, 0.1001370787620544, 0.0827884435653686, 0.0882717669010162, 0.0382369288376399, 0.0950498666082109, 0.0553307712078094, 0.1466597914695739, 0.1059815543038504, 0.2384325265884399, 0.0101989092571394, 0.0135936002646173, 0.0676485955715179, 0.0104131283504622, 0.0876078861100333, 0.0353059271971384, 0.1182592585682869, 0.2410408854484558, 0.072384944983891, 0.1267507910728454, 0.1161220769087473, 0.0858353316783905, 0.0933191180229187, 0.1566631495952606, 0.0525495335459709, 0.0986947672707694, 0.0977974236011505, 0.1411845882733663, 0.0338654642303784, 0.1026108622550964, 0.133616828918457, 0.0955336349351065, 0.2186454981565475, 0.2817812860012054, 0.0598068485657374, 1.140023422241211, 0.0784604648749033, 0.1106941614832196, 0.0551901943981647, 9.0, 0.0604519426822662, 0.034361183643341, 0.0767304386411394, 0.1251671399388994, 0.0728102496692112, 0.0866423547267913, 0.0680522407804216, 0.014615281351975, 0.0541762624468122, 0.0560414748532431, 0.1049642324447631, 0.0759009974343436, 0.1150814890861511, 0.0192380313362394, 0.0688335716724395, 0.3073375225067138, 0.1149648938860212, 0.0759528676668803, 0.0434957402093069, 0.0639209349950154, 0.0783087346288892, 0.0903377003139919, 0.0686566630999247, 0.1186944961547851, 0.0763495905058724, 0.0487923409257616, 0.0584734763417925, 0.1108558348246983, 0.014082419020789, 0.0310851356812885]\n"
          ]
        }
      ]
    },
    {
      "cell_type": "code",
      "source": [
        "# function to get the list of impostor attempts\n",
        "def get_impostors(df):\n",
        "    impostors_values = []\n",
        "    genuine_values = []\n",
        "    for index, row in df.iterrows():\n",
        "      if row[\"typer_user\"] != row[\"username\"]:\n",
        "        impostors_values.append(row[\"score\"])\n",
        "      else:\n",
        "        genuine_values.append(row[\"score\"])\n",
        "    return impostors_values, genuine_values\n",
        "\n",
        "bayes_impostor_values, bayes_genuine_values = get_impostors(bayes_vr)\n",
        "norm_impostor_values, norm_genuine_values = get_impostors(norm_vr)"
      ],
      "metadata": {
        "id": "lxlB2rql2Ggg",
        "colab": {
          "base_uri": "https://localhost:8080/"
        },
        "outputId": "285d3357-c7b0-47f5-dff4-746697cac521"
      },
      "execution_count": null,
      "outputs": [
        {
          "output_type": "stream",
          "name": "stdout",
          "text": [
            "[4.898677280970982, 0.6900373186383929, 4.947157723563059, 3.99606078011649, -0.5283829144069127, 0.6788805552891323, 2.6951070513044084, 4.281032289777484, 0.7435568400791713, 5.959642682756697, -0.4669204098837716, 2.898603711809431, 4.676131112234933, 7.516663687569754, -0.9177820682525636, -1.1474077701568604, 5.3494704110281805, -1.143424431482951, 4.840302058628628, 5.618862915039062, 4.412764140537807, -0.9580716490745544, 5.005673217773437, 7.488839830671038, -0.5728180408477783, 4.412782396589007, 4.879724230085101, -0.64639679590861, 5.9680427551269535, -0.6072528759638468, 3.6729583740234375, 4.406475067138672, 4.017203903198242, 4.841870444161551, 5.764981460571289, -1.178798755009969, 5.42791257585798, -0.3611266613006592, 5.226834106445312, 5.096827370779855, 1.021694898605347, -0.2184295952320099, -0.8644319176673889, 5.391771589006696, 5.03606071472168, -0.7440620263417562, 3.3499584197998047, 5.170622144426618, -2.0411808490753174, 3.797882556915283, 4.447046824863979, 5.919976806640625, -1.119828224182129, 0.9186808268229166, 2.3380855560302733, 1.2671287536621094, 5.257179260253906, -3.903750419616699, -2.6818957328796387, 0.4398273229598999, -18.502818298339843, 0.3666625022888183, 5.302327837262835, 2.4433393478393555, 9.0, -0.5250929355621338, 6.130267551967076, 4.1661480494907925, 7.86340822492327, 5.589762496948242, 5.424666976928711, 8.097933088030134, 5.111854008265904, 5.1573528289794925, -2.8919098377227783, 4.247984749930246, 6.023022121853298, 2.461860111781529, 6.382269541422526, 6.203287336561415, 5.56237072414822, 6.035658942328559, 2.3032922744750977, 7.812501634870257, 8.212706974574498, 7.695134844098773, 5.349952152797154]\n",
            "[0.0895044888768877, 0.1726075857877731, 0.0952417765344892, 0.1029682040214538, 0.0988802015781402, 0.042339026927948, 0.1037317752838134, 0.113597001348223, 0.0399497548739115, 0.0864035827772957, 0.1066078543663024, 0.1158588051795959, 0.1008255141122, 0.0766514539718627, 0.1286876102288564, 0.2661751806735992, 0.0867065872464861, 0.1263189911842346, 0.0950217161859784, 0.1022605776786804, 0.1195281488554818, 0.2575149834156036, 0.0724029958248138, 0.0772978918892996, 0.1175173024336497, 0.1117369788033621, 0.092074019568307, 0.1263591249783834, 0.0910124003887176, 0.1231891612211863, 0.1001370787620544, 0.0827884435653686, 0.0882717669010162, 0.0950498666082109, 0.0553307712078094, 0.1466597914695739, 0.1059815543038504, 0.2384325265884399, 0.0676485955715179, 0.0876078861100333, 0.0353059271971384, 0.1182592585682869, 0.2410408854484558, 0.072384944983891, 0.1267507910728454, 0.1161220769087473, 0.0858353316783905, 0.0933191180229187, 0.1566631495952606, 0.0525495335459709, 0.0986947672707694, 0.0977974236011505, 0.1411845882733663, 0.0338654642303784, 0.1026108622550964, 0.133616828918457, 0.0955336349351065, 0.2186454981565475, 0.2817812860012054, 0.0598068485657374, 1.140023422241211, 0.0784604648749033, 0.1106941614832196, 0.0551901943981647, 9.0, 0.0604519426822662, 0.0767304386411394, 0.1251671399388994, 0.0728102496692112, 0.0866423547267913, 0.1049642324447631, 0.0759009974343436, 0.1150814890861511, 0.0688335716724395, 0.3073375225067138, 0.1149648938860212, 0.0759528676668803, 0.0434957402093069, 0.0639209349950154, 0.0783087346288892, 0.0903377003139919, 0.0686566630999247, 0.1186944961547851, 0.0763495905058724, 0.0487923409257616, 0.0584734763417925, 0.1108558348246983]\n"
          ]
        }
      ]
    },
    {
      "cell_type": "code",
      "source": [
        "print(\"impostor len: \", len(bayes_impostor_values))\n",
        "print(\"genuine len: \", len(bayes_values) - len(bayes_impostor_values))"
      ],
      "metadata": {
        "id": "nM9OkdbIexiu",
        "colab": {
          "base_uri": "https://localhost:8080/"
        },
        "outputId": "820d00bb-aab1-4bf4-e83e-4e53329d9013"
      },
      "execution_count": null,
      "outputs": [
        {
          "output_type": "stream",
          "name": "stdout",
          "text": [
            "impostor len:  87\n",
            "genuine len:  52\n"
          ]
        }
      ]
    },
    {
      "cell_type": "code",
      "source": [
        "def get_norm_results(values, threshold):\n",
        "  accepted = 0\n",
        "  rejected = 0\n",
        "  for value in values:\n",
        "    if value < threshold:\n",
        "      accepted += 1\n",
        "    else:\n",
        "      rejected += 1\n",
        "  return accepted, rejected\n",
        "\n",
        "def get_bayes_results(values, threshold):\n",
        "  accepted = 0\n",
        "  rejected = 0\n",
        "  for value in values:\n",
        "    if value > threshold:\n",
        "      accepted += 1\n",
        "    else:\n",
        "      rejected += 1\n",
        "  return accepted, rejected"
      ],
      "metadata": {
        "id": "9P0CB6f4TIxM"
      },
      "execution_count": null,
      "outputs": []
    },
    {
      "cell_type": "code",
      "source": [
        "min_norm = min(norm_values)\n",
        "max_norm = max(norm_values)\n",
        "min_bayes = min(bayes_values)\n",
        "max_bayes = max(bayes_values)\n",
        "\n",
        "norm_step = (max_norm - min_norm) / len(norm_values)\n",
        "bayes_step = (max_bayes - min_bayes) / len(bayes_values)\n",
        "\n",
        "norm_thresholds = [(min_norm + (norm_step * i)) / 20 for i in range(0, len(norm_values) + 1)]\n",
        "bayes_thresholds = [min_bayes + (bayes_step * i) for i in range(0, len(bayes_values) + 1)]\n",
        "                                                             \n",
        "print(norm_thresholds)\n",
        "print(bayes_thresholds)"
      ],
      "metadata": {
        "id": "aQ0r1vn5uMIU",
        "colab": {
          "base_uri": "https://localhost:8080/"
        },
        "outputId": "5db14b2f-6cb7-474b-efd3-15a68f672513"
      },
      "execution_count": null,
      "outputs": [
        {
          "output_type": "stream",
          "name": "stdout",
          "text": [
            "[0.00028715496882796, 0.003545943700937902, 0.006804732433047844, 0.010063521165157786, 0.013322309897267728, 0.01658109862937767, 0.01983988736148761, 0.023098676093597555, 0.026357464825707493, 0.029616253557817433, 0.032875042289927374, 0.03613383102203732, 0.03939261975414726, 0.0426514084862572, 0.04591019721836715, 0.04916898595047709, 0.05242777468258704, 0.05568656341469698, 0.05894535214680692, 0.06220414087891686, 0.0654629296110268, 0.06872171834313676, 0.0719805070752467, 0.07523929580735664, 0.07849808453946658, 0.08175687327157652, 0.08501566200368646, 0.0882744507357964, 0.09153323946790634, 0.09479202820001628, 0.09805081693212622, 0.10130960566423616, 0.1045683943963461, 0.10782718312845604, 0.11108597186056599, 0.11434476059267593, 0.11760354932478587, 0.12086233805689581, 0.12412112678900575, 0.1273799155211157, 0.13063870425322563, 0.1338974929853356, 0.13715628171744554, 0.14041507044955548, 0.14367385918166542, 0.14693264791377536, 0.1501914366458853, 0.15345022537799524, 0.15670901411010518, 0.15996780284221512, 0.16322659157432506, 0.166485380306435, 0.16974416903854495, 0.17300295777065489, 0.17626174650276483, 0.17952053523487477, 0.18277932396698474, 0.18603811269909468, 0.18929690143120462, 0.19255569016331456, 0.1958144788954245, 0.19907326762753444, 0.20233205635964438, 0.2055908450917543, 0.20884963382386426, 0.21210842255597423, 0.21536721128808414, 0.2186260000201941, 0.22188478875230402, 0.225143577484414, 0.2284023662165239, 0.23166115494863387, 0.2349199436807438, 0.23817873241285376, 0.24143752114496367, 0.24469630987707364, 0.24795509860918355, 0.2512138873412935, 0.2544726760734034, 0.2577314648055134, 0.2609902535376233, 0.2642490422697333, 0.2675078310018432, 0.27076661973395316, 0.2740254084660631, 0.27728419719817304, 0.280542985930283, 0.2838017746623929, 0.28706056339450287, 0.2903193521266128, 0.29357814085872275, 0.2968369295908327, 0.30009571832294263, 0.30335450705505257, 0.3066132957871625, 0.30987208451927245, 0.3131308732513824, 0.3163896619834924, 0.3196484507156023, 0.32290723944771227, 0.32616602817982215, 0.32942481691193215, 0.33268360564404204, 0.33594239437615203, 0.3392011831082619, 0.3424599718403719, 0.3457187605724818, 0.3489775493045918, 0.3522363380367017, 0.3554951267688117, 0.35875391550092156, 0.36201270423303156, 0.3652714929651415, 0.36853028169725144, 0.3717890704293614, 0.3750478591614713, 0.37830664789358126, 0.3815654366256912, 0.38482422535780114, 0.3880830140899111, 0.391341802822021, 0.39460059155413096, 0.3978593802862409, 0.40111816901835085, 0.4043769577504608, 0.4076357464825707, 0.4108945352146806, 0.4141533239467906, 0.41741211267890055, 0.4206709014110105, 0.4239296901431205, 0.42718847887523037, 0.4304472676073403, 0.43370605633945025, 0.43696484507156025, 0.44022363380367013, 0.4434824225357801, 0.44674121126789, 0.45]\n",
            "[-18.502818298339843, -18.297318354858522, -18.091818411377204, -17.886318467895883, -17.680818524414562, -17.475318580933244, -17.269818637451923, -17.064318693970606, -16.858818750489284, -16.653318807007963, -16.447818863526646, -16.242318920045324, -16.036818976564007, -15.831319033082686, -15.625819089601364, -15.420319146120045, -15.214819202638726, -15.009319259157406, -14.803819315676087, -14.598319372194766, -14.392819428713446, -14.187319485232127, -13.981819541750806, -13.776319598269486, -13.570819654788167, -13.365319711306848, -13.159819767825528, -12.954319824344207, -12.748819880862888, -12.543319937381568, -12.337819993900247, -12.132320050418928, -11.926820106937608, -11.721320163456289, -11.51582021997497, -11.310320276493648, -11.104820333012329, -10.89932038953101, -10.693820446049688, -10.488320502568369, -10.28282055908705, -10.07732061560573, -9.87182067212441, -9.66632072864309, -9.46082078516177, -9.25532084168045, -9.04982089819913, -8.84432095471781, -8.638821011236491, -8.433321067755172, -8.227821124273852, -8.022321180792531, -7.816821237311212, -7.611321293829892, -7.405821350348571, -7.200321406867252, -6.994821463385932, -6.789321519904613, -6.5838215764232935, -6.378321632941972, -6.172821689460653, -5.9673217459793335, -5.761821802498012, -5.556321859016693, -5.350821915535374, -5.145321972054054, -4.939822028572735, -4.734322085091414, -4.528822141610094, -4.323322198128775, -4.117822254647454, -3.9123223111661343, -3.706822367684815, -3.5013224242034955, -3.295822480722176, -3.090322537240855, -2.8848225937595355, -2.679322650278216, -2.473822706796895, -2.2683227633155774, -2.062822819834256, -1.857322876352935, -1.6518229328716174, -1.4463229893902962, -1.2408230459089786, -1.0353231024276575, -0.8298231589463363, -0.6243232154650187, -0.4188232719836975, -0.21332332850237634, -0.007823385021058726, 0.19767655846026244, 0.4031765019415836, 0.6086764454229012, 0.8141763889042224, 1.01967633238554, 1.2251762758668612, 1.4306762193481823, 1.6361761628295, 1.8416761063108211, 2.0471760497921387, 2.25267599327346, 2.458175936754781, 2.6636758802360987, 2.86917582371742, 3.074675767198741, 3.2801757106800586, 3.48567565416138, 3.691175597642701, 3.8966755411240186, 4.10217548460534, 4.307675428086657, 4.5131753715679785, 4.7186753150493, 4.924175258530617, 5.1296752020119385, 5.335175145493256, 5.540675088974577, 5.7461750324558984, 5.951674975937216, 6.157174919418537, 6.362674862899858, 6.568174806381176, 6.773674749862497, 6.979174693343818, 7.184674636825136, 7.390174580306457, 7.595674523787775, 7.801174467269096, 8.006674410750417, 8.212174354231735, 8.417674297713056, 8.623174241194373, 8.828674184675695, 9.034174128157016, 9.239674071638333, 9.445174015119655, 9.650673958600976, 9.856173902082293, 10.061673845563615]\n"
          ]
        }
      ]
    },
    {
      "cell_type": "markdown",
      "source": [
        "**BAYES FAR/FRR RATES**"
      ],
      "metadata": {
        "id": "5DSOxrVkiSaI"
      }
    },
    {
      "cell_type": "code",
      "source": [
        "bayes_far_rates = []\n",
        "bayes_frr_rates = []\n",
        "for threshold in bayes_thresholds:\n",
        "\n",
        "  false_positive, true_negative = get_bayes_results(bayes_impostor_values, threshold)\n",
        "  bayes_far_rates.append(false_positive / (false_positive + true_negative))\n",
        "\n",
        "  true_positive, false_negative = get_bayes_results(bayes_genuine_values, threshold)\n",
        "  bayes_frr_rates.append(false_negative / (false_negative + true_positive))\n",
        "  \n",
        "print(bayes_far_rates)\n",
        "print(bayes_frr_rates)"
      ],
      "metadata": {
        "id": "0rdPTxqycV8I",
        "colab": {
          "base_uri": "https://localhost:8080/"
        },
        "outputId": "40a6c832-2641-4608-8983-ced3f4ec1286"
      },
      "execution_count": null,
      "outputs": [
        {
          "output_type": "stream",
          "name": "stdout",
          "text": [
            "[0.9885057471264368, 0.9885057471264368, 0.9885057471264368, 0.9885057471264368, 0.9885057471264368, 0.9885057471264368, 0.9885057471264368, 0.9885057471264368, 0.9885057471264368, 0.9885057471264368, 0.9885057471264368, 0.9885057471264368, 0.9885057471264368, 0.9885057471264368, 0.9885057471264368, 0.9885057471264368, 0.9885057471264368, 0.9885057471264368, 0.9885057471264368, 0.9885057471264368, 0.9885057471264368, 0.9885057471264368, 0.9885057471264368, 0.9885057471264368, 0.9885057471264368, 0.9885057471264368, 0.9885057471264368, 0.9885057471264368, 0.9885057471264368, 0.9885057471264368, 0.9885057471264368, 0.9885057471264368, 0.9885057471264368, 0.9885057471264368, 0.9885057471264368, 0.9885057471264368, 0.9885057471264368, 0.9885057471264368, 0.9885057471264368, 0.9885057471264368, 0.9885057471264368, 0.9885057471264368, 0.9885057471264368, 0.9885057471264368, 0.9885057471264368, 0.9885057471264368, 0.9885057471264368, 0.9885057471264368, 0.9885057471264368, 0.9885057471264368, 0.9885057471264368, 0.9885057471264368, 0.9885057471264368, 0.9885057471264368, 0.9885057471264368, 0.9885057471264368, 0.9885057471264368, 0.9885057471264368, 0.9885057471264368, 0.9885057471264368, 0.9885057471264368, 0.9885057471264368, 0.9885057471264368, 0.9885057471264368, 0.9885057471264368, 0.9885057471264368, 0.9885057471264368, 0.9885057471264368, 0.9885057471264368, 0.9885057471264368, 0.9885057471264368, 0.9885057471264368, 0.9770114942528736, 0.9770114942528736, 0.9770114942528736, 0.9770114942528736, 0.9655172413793104, 0.9540229885057471, 0.9540229885057471, 0.9540229885057471, 0.9540229885057471, 0.9425287356321839, 0.9425287356321839, 0.9425287356321839, 0.9425287356321839, 0.896551724137931, 0.8620689655172413, 0.8390804597701149, 0.7816091954022989, 0.7586206896551724, 0.7586206896551724, 0.7586206896551724, 0.7471264367816092, 0.735632183908046, 0.7011494252873564, 0.6896551724137931, 0.6781609195402298, 0.6666666666666666, 0.6666666666666666, 0.6666666666666666, 0.6666666666666666, 0.6666666666666666, 0.632183908045977, 0.6206896551724138, 0.6091954022988506, 0.5977011494252874, 0.5977011494252874, 0.5862068965517241, 0.5747126436781609, 0.5632183908045977, 0.5402298850574713, 0.5057471264367817, 0.45977011494252873, 0.4482758620689655, 0.40229885057471265, 0.3448275862068966, 0.28735632183908044, 0.22988505747126436, 0.19540229885057472, 0.1724137931034483, 0.11494252873563218, 0.10344827586206896, 0.09195402298850575, 0.09195402298850575, 0.09195402298850575, 0.09195402298850575, 0.09195402298850575, 0.06896551724137931, 0.05747126436781609, 0.034482758620689655, 0.022988505747126436, 0.011494252873563218, 0.011494252873563218, 0.011494252873563218, 0.0, 0.0, 0.0, 0.0, 0.0, 0.0]\n",
            "[0.0, 0.0, 0.0, 0.0, 0.0, 0.0, 0.0, 0.0, 0.0, 0.0, 0.0, 0.0, 0.0, 0.0, 0.0, 0.0, 0.0, 0.0, 0.0, 0.0, 0.0, 0.0, 0.0, 0.0, 0.0, 0.0, 0.0, 0.0, 0.0, 0.0, 0.0, 0.0, 0.0, 0.0, 0.0, 0.0, 0.0, 0.0, 0.0, 0.0, 0.0, 0.0, 0.0, 0.0, 0.0, 0.0, 0.0, 0.0, 0.0, 0.0, 0.0, 0.0, 0.0, 0.0, 0.0, 0.0, 0.0, 0.019230769230769232, 0.019230769230769232, 0.019230769230769232, 0.019230769230769232, 0.019230769230769232, 0.019230769230769232, 0.019230769230769232, 0.019230769230769232, 0.019230769230769232, 0.019230769230769232, 0.019230769230769232, 0.019230769230769232, 0.019230769230769232, 0.019230769230769232, 0.019230769230769232, 0.019230769230769232, 0.019230769230769232, 0.019230769230769232, 0.019230769230769232, 0.019230769230769232, 0.019230769230769232, 0.019230769230769232, 0.019230769230769232, 0.019230769230769232, 0.038461538461538464, 0.038461538461538464, 0.038461538461538464, 0.038461538461538464, 0.038461538461538464, 0.038461538461538464, 0.038461538461538464, 0.07692307692307693, 0.11538461538461539, 0.15384615384615385, 0.15384615384615385, 0.19230769230769232, 0.23076923076923078, 0.23076923076923078, 0.23076923076923078, 0.23076923076923078, 0.23076923076923078, 0.23076923076923078, 0.25, 0.28846153846153844, 0.3076923076923077, 0.3076923076923077, 0.3076923076923077, 0.3076923076923077, 0.3269230769230769, 0.3269230769230769, 0.3269230769230769, 0.3269230769230769, 0.3269230769230769, 0.3269230769230769, 0.3269230769230769, 0.3269230769230769, 0.3269230769230769, 0.3269230769230769, 0.3269230769230769, 0.3269230769230769, 0.3269230769230769, 0.34615384615384615, 0.34615384615384615, 0.34615384615384615, 0.36538461538461536, 0.36538461538461536, 0.4807692307692308, 0.4807692307692308, 0.5, 0.5769230769230769, 0.6730769230769231, 0.8076923076923077, 0.8269230769230769, 0.8461538461538461, 0.8461538461538461, 0.8461538461538461, 0.8461538461538461, 0.8461538461538461, 0.8653846153846154, 0.8846153846153846, 0.9038461538461539, 0.9230769230769231, 0.9807692307692307]\n"
          ]
        }
      ]
    },
    {
      "cell_type": "markdown",
      "source": [
        "**NORM FAR/FRR RATES**"
      ],
      "metadata": {
        "id": "3YpJGPUCibZL"
      }
    },
    {
      "cell_type": "code",
      "source": [
        "norm_far_rates = []\n",
        "norm_frr_rates = []\n",
        "for threshold in norm_thresholds:\n",
        "\n",
        "  false_positive, true_negative = get_norm_results(norm_impostor_values, threshold)\n",
        "  norm_far_rates.append(false_positive / (false_positive + true_negative))\n",
        "\n",
        "  true_positive, false_negative = get_norm_results(norm_genuine_values, threshold)\n",
        "  norm_frr_rates.append(false_negative / (false_negative + true_positive))\n",
        "  \n",
        "print(norm_far_rates)\n",
        "print(norm_frr_rates)"
      ],
      "metadata": {
        "id": "Ehkq2O9XiaSC",
        "colab": {
          "base_uri": "https://localhost:8080/"
        },
        "outputId": "71f8a8a9-8da0-46b1-bd51-7dd87fd1a2b4"
      },
      "execution_count": null,
      "outputs": [
        {
          "output_type": "stream",
          "name": "stdout",
          "text": [
            "[0.0, 0.0, 0.0, 0.0, 0.0, 0.0, 0.0, 0.0, 0.0, 0.0, 0.0, 0.022988505747126436, 0.022988505747126436, 0.04597701149425287, 0.05747126436781609, 0.06896551724137931, 0.06896551724137931, 0.10344827586206896, 0.11494252873563218, 0.13793103448275862, 0.14942528735632185, 0.1724137931034483, 0.1839080459770115, 0.21839080459770116, 0.3103448275862069, 0.3103448275862069, 0.3218390804597701, 0.39080459770114945, 0.42528735632183906, 0.4482758620689655, 0.5057471264367817, 0.5517241379310345, 0.5977011494252874, 0.632183908045977, 0.6551724137931034, 0.6781609195402298, 0.735632183908046, 0.7701149425287356, 0.7816091954022989, 0.8275862068965517, 0.8390804597701149, 0.8505747126436781, 0.8505747126436781, 0.8505747126436781, 0.8620689655172413, 0.8735632183908046, 0.8735632183908046, 0.8735632183908046, 0.8850574712643678, 0.8850574712643678, 0.8850574712643678, 0.8850574712643678, 0.8850574712643678, 0.896551724137931, 0.896551724137931, 0.896551724137931, 0.896551724137931, 0.896551724137931, 0.896551724137931, 0.896551724137931, 0.896551724137931, 0.896551724137931, 0.896551724137931, 0.896551724137931, 0.896551724137931, 0.896551724137931, 0.896551724137931, 0.896551724137931, 0.9080459770114943, 0.9080459770114943, 0.9080459770114943, 0.9080459770114943, 0.9080459770114943, 0.9080459770114943, 0.9310344827586207, 0.9310344827586207, 0.9310344827586207, 0.9310344827586207, 0.9310344827586207, 0.9425287356321839, 0.9425287356321839, 0.9425287356321839, 0.9540229885057471, 0.9540229885057471, 0.9540229885057471, 0.9540229885057471, 0.9540229885057471, 0.9655172413793104, 0.9655172413793104, 0.9655172413793104, 0.9655172413793104, 0.9655172413793104, 0.9655172413793104, 0.9655172413793104, 0.9655172413793104, 0.9770114942528736, 0.9770114942528736, 0.9770114942528736, 0.9770114942528736, 0.9770114942528736, 0.9770114942528736, 0.9770114942528736, 0.9770114942528736, 0.9770114942528736, 0.9770114942528736, 0.9770114942528736, 0.9770114942528736, 0.9770114942528736, 0.9770114942528736, 0.9770114942528736, 0.9770114942528736, 0.9770114942528736, 0.9770114942528736, 0.9770114942528736, 0.9770114942528736, 0.9770114942528736, 0.9770114942528736, 0.9770114942528736, 0.9770114942528736, 0.9770114942528736, 0.9770114942528736, 0.9770114942528736, 0.9770114942528736, 0.9770114942528736, 0.9770114942528736, 0.9770114942528736, 0.9770114942528736, 0.9770114942528736, 0.9770114942528736, 0.9770114942528736, 0.9770114942528736, 0.9770114942528736, 0.9770114942528736, 0.9770114942528736, 0.9770114942528736, 0.9770114942528736, 0.9770114942528736, 0.9770114942528736, 0.9770114942528736]\n",
            "[1.0, 1.0, 0.9803921568627451, 0.9803921568627451, 0.8627450980392157, 0.6666666666666666, 0.5490196078431373, 0.5294117647058824, 0.49019607843137253, 0.47058823529411764, 0.43137254901960786, 0.35294117647058826, 0.27450980392156865, 0.27450980392156865, 0.27450980392156865, 0.27450980392156865, 0.27450980392156865, 0.2549019607843137, 0.23529411764705882, 0.19607843137254902, 0.19607843137254902, 0.17647058823529413, 0.17647058823529413, 0.17647058823529413, 0.17647058823529413, 0.1568627450980392, 0.1568627450980392, 0.13725490196078433, 0.13725490196078433, 0.13725490196078433, 0.13725490196078433, 0.13725490196078433, 0.13725490196078433, 0.13725490196078433, 0.13725490196078433, 0.13725490196078433, 0.13725490196078433, 0.13725490196078433, 0.13725490196078433, 0.13725490196078433, 0.13725490196078433, 0.13725490196078433, 0.13725490196078433, 0.13725490196078433, 0.13725490196078433, 0.13725490196078433, 0.13725490196078433, 0.13725490196078433, 0.13725490196078433, 0.13725490196078433, 0.13725490196078433, 0.13725490196078433, 0.11764705882352941, 0.11764705882352941, 0.11764705882352941, 0.11764705882352941, 0.11764705882352941, 0.11764705882352941, 0.11764705882352941, 0.11764705882352941, 0.11764705882352941, 0.11764705882352941, 0.11764705882352941, 0.11764705882352941, 0.11764705882352941, 0.11764705882352941, 0.11764705882352941, 0.11764705882352941, 0.11764705882352941, 0.11764705882352941, 0.11764705882352941, 0.11764705882352941, 0.09803921568627451, 0.09803921568627451, 0.09803921568627451, 0.0784313725490196, 0.0784313725490196, 0.058823529411764705, 0.0392156862745098, 0.0392156862745098, 0.0392156862745098, 0.0392156862745098, 0.0392156862745098, 0.0392156862745098, 0.0196078431372549, 0.0196078431372549, 0.0196078431372549, 0.0196078431372549, 0.0196078431372549, 0.0196078431372549, 0.0196078431372549, 0.0196078431372549, 0.0196078431372549, 0.0196078431372549, 0.0196078431372549, 0.0196078431372549, 0.0196078431372549, 0.0196078431372549, 0.0196078431372549, 0.0196078431372549, 0.0196078431372549, 0.0196078431372549, 0.0196078431372549, 0.0196078431372549, 0.0196078431372549, 0.0196078431372549, 0.0196078431372549, 0.0196078431372549, 0.0196078431372549, 0.0196078431372549, 0.0196078431372549, 0.0196078431372549, 0.0196078431372549, 0.0196078431372549, 0.0196078431372549, 0.0196078431372549, 0.0196078431372549, 0.0196078431372549, 0.0196078431372549, 0.0196078431372549, 0.0196078431372549, 0.0196078431372549, 0.0196078431372549, 0.0196078431372549, 0.0196078431372549, 0.0196078431372549, 0.0196078431372549, 0.0196078431372549, 0.0196078431372549, 0.0196078431372549, 0.0196078431372549, 0.0196078431372549, 0.0, 0.0, 0.0, 0.0, 0.0, 0.0, 0.0]\n"
          ]
        }
      ]
    },
    {
      "cell_type": "code",
      "source": [
        "plt.title(\"NORM\")\n",
        "plt.plot(norm_thresholds, norm_far_rates, label='FAR')\n",
        "plt.plot(norm_thresholds, norm_frr_rates, label='FRR')\n",
        "plt.legend()\n",
        "plt.xlabel(\"Treshold\")\n",
        "plt.show()"
      ],
      "metadata": {
        "id": "60Q636BHiQSB",
        "colab": {
          "base_uri": "https://localhost:8080/",
          "height": 295
        },
        "outputId": "3245c7ef-f2fa-45d4-c79e-501f8456d799"
      },
      "execution_count": null,
      "outputs": [
        {
          "output_type": "display_data",
          "data": {
            "text/plain": [
              "<Figure size 432x288 with 1 Axes>"
            ],
            "image/png": "[encoded data removed]"
          },
          "metadata": {
            "needs_background": "light"
          }
        }
      ]
    },
    {
      "cell_type": "code",
      "source": [
        "plt.title(\"BAYES\")\n",
        "plt.plot(bayes_thresholds, bayes_far_rates, label='FAR')\n",
        "plt.plot(bayes_thresholds, bayes_frr_rates, label='FRR')\n",
        "plt.legend()\n",
        "plt.xlabel(\"Treshold\")\n",
        "plt.show()"
      ],
      "metadata": {
        "id": "-uQmLa_YcWBm",
        "colab": {
          "base_uri": "https://localhost:8080/",
          "height": 295
        },
        "outputId": "fcd09e52-85a0-4c81-ef1b-4103347e3bd3"
      },
      "execution_count": null,
      "outputs": [
        {
          "output_type": "display_data",
          "data": {
            "text/plain": [
              "<Figure size 432x288 with 1 Axes>"
            ],
            "image/png": "[encoded data removed]"
          },
          "metadata": {
            "needs_background": "light"
          }
        }
      ]
    },
    {
      "cell_type": "code",
      "source": [
        "# ROC curve Norm\n",
        "norm_frr_prob = [(1 - x) for x in norm_frr_rates]\n",
        "plt.plot(norm_far_rates, norm_frr_prob)\n",
        "plt.plot([0.0, 1.0])\n",
        "plt.xlabel(\"FAR\")\n",
        "plt.ylabel(\"1-FRR\")\n",
        "plt.show()"
      ],
      "metadata": {
        "id": "BAsGQn_tcWDu",
        "colab": {
          "base_uri": "https://localhost:8080/",
          "height": 279
        },
        "outputId": "fed3d7dd-d233-47d5-a731-ad26dcc714a6"
      },
      "execution_count": null,
      "outputs": [
        {
          "output_type": "display_data",
          "data": {
            "text/plain": [
              "<Figure size 432x288 with 1 Axes>"
            ],
            "image/png": "[encoded data removed]"
          },
          "metadata": {
            "needs_background": "light"
          }
        }
      ]
    },
    {
      "cell_type": "code",
      "source": [
        "# ROC curve bayes\n",
        "bayes_frr_prob = [(1 - x) for x in bayes_frr_rates]\n",
        "plt.plot(bayes_far_rates, bayes_frr_prob)\n",
        "plt.plot([0.0, 1.0])\n",
        "plt.xlabel(\"FAR\")\n",
        "plt.ylabel(\"1-FRR\")\n",
        "plt.show()"
      ],
      "metadata": {
        "id": "y6io9ut_cWGD",
        "colab": {
          "base_uri": "https://localhost:8080/",
          "height": 279
        },
        "outputId": "77b1498e-2154-49b3-a783-0ac70fe770d6"
      },
      "execution_count": null,
      "outputs": [
        {
          "output_type": "display_data",
          "data": {
            "text/plain": [
              "<Figure size 432x288 with 1 Axes>"
            ],
            "image/png": "[encoded data removed]"
          },
          "metadata": {
            "needs_background": "light"
          }
        }
      ]
    },
    {
      "cell_type": "markdown",
      "source": [
        "HTER"
      ],
      "metadata": {
        "id": "qUYg-62fbEJ0"
      }
    },
    {
      "cell_type": "code",
      "source": [
        "hter_bayes = [((bayes_far_rates[i] +  bayes_frr_rates[i]) / 2) for i in range(len(bayes_frr_rates))]\n",
        "plt.title(\"BAYES\")\n",
        "plt.ylabel(\"HTER\")\n",
        "plt.plot(hter_bayes)\n",
        "plt.show()"
      ],
      "metadata": {
        "colab": {
          "base_uri": "https://localhost:8080/",
          "height": 281
        },
        "id": "_1tY80P7cEk7",
        "outputId": "d1cc0910-5d89-45ff-8bdc-189c6a5cd9dd"
      },
      "execution_count": null,
      "outputs": [
        {
          "output_type": "display_data",
          "data": {
            "text/plain": [
              "<Figure size 432x288 with 1 Axes>"
            ],
            "image/png": "[encoded data removed]"
          },
          "metadata": {
            "needs_background": "light"
          }
        }
      ]
    },
    {
      "cell_type": "code",
      "source": [
        "hter_norm = [((norm_far_rates[i] +  norm_frr_rates[i]) / 2) for i in range(len(norm_frr_rates))]\n",
        "plt.title(\"NORM\")\n",
        "plt.ylabel(\"HTER\")\n",
        "plt.plot(hter_norm)\n",
        "plt.show()"
      ],
      "metadata": {
        "colab": {
          "base_uri": "https://localhost:8080/",
          "height": 281
        },
        "id": "afZevhNZa_fy",
        "outputId": "673f0fbb-b6ad-43e3-c21b-af10bcb9df39"
      },
      "execution_count": null,
      "outputs": [
        {
          "output_type": "display_data",
          "data": {
            "text/plain": [
              "<Figure size 432x288 with 1 Axes>"
            ],
            "image/png": "[encoded data removed]"
          },
          "metadata": {
            "needs_background": "light"
          }
        }
      ]
    }
  ]
}